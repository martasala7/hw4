{
 "cells": [
  {
   "cell_type": "code",
   "execution_count": 1,
   "metadata": {},
   "outputs": [],
   "source": [
    "# Import functions from diabetes_predictor library\n",
    "from diabetes_predictor.data_preprocessing import load_data, clean_data, encode_ethnicity, binary_variables_gender\n",
    "from diabetes_predictor.model_and_prediction import split_data, train_model, predict, calculate_accuracy, predict_proba, calculate_roc_auc"
   ]
  },
  {
   "cell_type": "code",
   "execution_count": 3,
   "metadata": {},
   "outputs": [
    {
     "name": "stdout",
     "output_type": "stream",
     "text": [
      "Accuracy: 0.7264\n",
      "Train set predictions:\n",
      "      predictions_train\n",
      "952            0.748524\n",
      "4283           0.190000\n",
      "5521           0.070000\n",
      "9655           0.110000\n",
      "3549           0.110000\n",
      "Test set predictions:\n",
      "      predictions_test\n",
      "136              0.430\n",
      "4882             0.260\n",
      "2313             0.050\n",
      "1886             0.066\n",
      "3000             0.520\n",
      "Train ROC AUC: 0.9983\n",
      "Test ROC AUC: 0.6025\n"
     ]
    }
   ],
   "source": [
    "\n",
    "# load the dataframe\n",
    "df = load_data()\n",
    "\n",
    "# remove NaNs and impute missing values with the corresponding mean\n",
    "df = clean_data(df)\n",
    "\n",
    "# Hot encode for 'ethnicity'\n",
    "df = encode_ethnicity(df)\n",
    "\n",
    "# Create a binary variable for 'gender'\n",
    "df = binary_variables_gender(df)\n",
    "\n",
    "# split the dataframe into train and test\n",
    "X_train, X_test, y_train, y_test = split_data(df)\n",
    "\n",
    "# train a Random Forest Classifier model\n",
    "features = ['age', 'height', 'weight', 'aids', 'cirrhosis', 'hepatic_failure', \n",
    "            'immunosuppression', 'leukemia', 'lymphoma', 'solid_tumor_with_metastasis']\n",
    "\n",
    "X_train_selected = X_train[features]\n",
    "X_test_selected = X_test[features]\n",
    "\n",
    "model = train_model(X_train_selected, y_train)\n",
    "\n",
    "# make predictions with our model\n",
    "y_pred = predict(model, X_test_selected)\n",
    "\n",
    "# compute model accuracy\n",
    "accuracy = calculate_accuracy(y_test, y_pred)\n",
    "print(f'Accuracy: {accuracy:.4f}')\n",
    "\n",
    "# predicted probabilities \n",
    "train_proba = predict_proba(model, X_train_selected)\n",
    "X_train['predictions_train'] = train_proba\n",
    "\n",
    "test_proba = predict_proba(model, X_test_selected)\n",
    "X_test['predictions_test'] = test_proba\n",
    "\n",
    "# visualize probabilities \n",
    "print(\"Train set predictions:\")\n",
    "print(X_train[['predictions_train']].head())\n",
    "\n",
    "print(\"Test set predictions:\")\n",
    "print(X_test[['predictions_test']].head())\n",
    "\n",
    "# compute ROC_AUC metric using predicted probabilities\n",
    "train_roc_auc = calculate_roc_auc(model, X_train_selected, y_train)\n",
    "test_roc_auc = calculate_roc_auc(model, X_test_selected, y_test)\n",
    "\n",
    "# print ROC AUC results\n",
    "print(f'Train ROC AUC: {train_roc_auc:.4f}')\n",
    "print(f'Test ROC AUC: {test_roc_auc:.4f}')\n"
   ]
  }
 ],
 "metadata": {
  "kernelspec": {
   "display_name": "hw4",
   "language": "python",
   "name": "python3"
  },
  "language_info": {
   "codemirror_mode": {
    "name": "ipython",
    "version": 3
   },
   "file_extension": ".py",
   "mimetype": "text/x-python",
   "name": "python",
   "nbconvert_exporter": "python",
   "pygments_lexer": "ipython3",
   "version": "3.12.7"
  }
 },
 "nbformat": 4,
 "nbformat_minor": 2
}
